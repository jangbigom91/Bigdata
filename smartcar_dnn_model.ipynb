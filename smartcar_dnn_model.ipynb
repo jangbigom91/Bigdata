{
  "nbformat": 4,
  "nbformat_minor": 0,
  "metadata": {
    "colab": {
      "name": "smartcar_dnn_model.ipynb",
      "provenance": [],
      "collapsed_sections": [],
      "authorship_tag": "ABX9TyOC7IkpTzNd3IFcMUJAiOnF",
      "include_colab_link": true
    },
    "kernelspec": {
      "name": "python3",
      "display_name": "Python 3"
    }
  },
  "cells": [
    {
      "cell_type": "markdown",
      "metadata": {
        "id": "view-in-github",
        "colab_type": "text"
      },
      "source": [
        "<a href=\"https://colab.research.google.com/github/jangbigom91/Bigdata/blob/master/smartcar_dnn_model.ipynb\" target=\"_parent\"><img src=\"https://colab.research.google.com/assets/colab-badge.svg\" alt=\"Open In Colab\"/></a>"
      ]
    },
    {
      "cell_type": "code",
      "metadata": {
        "id": "DGtCp8-VkpDU",
        "colab_type": "code",
        "colab": {}
      },
      "source": [
        "#필요한 라이브러리 임포트\n",
        "import tensorflow as tf\n",
        "import pandas as pd\n",
        "import matplotlib.pyplot as plt\n",
        "\n",
        "from time import time\n",
        "from tensorflow.python.keras.callbacks import TensorBoard\n",
        "from tensorflow import keras\n",
        "from tensorflow.keras.models import Sequential\n",
        "from tensorflow.keras.layers import Dense, Dropout\n",
        "from sklearn.preprocessing import StandardScaler\n",
        "from sklearn.model_selection import train_test_split\n",
        "from sklearn.metrics import roc_curve, roc_auc_score, auc\n",
        "from keras.utils import to_categorical\n",
        "from keras.models import load_model"
      ],
      "execution_count": 21,
      "outputs": []
    },
    {
      "cell_type": "code",
      "metadata": {
        "id": "AMsIentilZvu",
        "colab_type": "code",
        "colab": {
          "base_uri": "https://localhost:8080/",
          "height": 35
        },
        "outputId": "1373b909-8413-442b-91c1-42733c1c10c2"
      },
      "source": [
        "#구글 드라이브 연동\n",
        "from google.colab import drive\n",
        "drive.mount('/content/drive')"
      ],
      "execution_count": 22,
      "outputs": [
        {
          "output_type": "stream",
          "text": [
            "Drive already mounted at /content/drive; to attempt to forcibly remount, call drive.mount(\"/content/drive\", force_remount=True).\n"
          ],
          "name": "stdout"
        }
      ]
    },
    {
      "cell_type": "code",
      "metadata": {
        "id": "Jkoo5LyllnlT",
        "colab_type": "code",
        "colab": {
          "base_uri": "https://localhost:8080/",
          "height": 419
        },
        "outputId": "43377712-c5e4-45c6-8f34-1bcb28bcbeb0"
      },
      "source": [
        "#데이터셋 로드\n",
        "df = pd.read_csv('/content/drive/My Drive/Tensorflow_works/data/CarDrivingIncidentInfo.csv')\n",
        "df"
      ],
      "execution_count": 23,
      "outputs": [
        {
          "output_type": "execute_result",
          "data": {
            "text/html": [
              "<div>\n",
              "<style scoped>\n",
              "    .dataframe tbody tr th:only-of-type {\n",
              "        vertical-align: middle;\n",
              "    }\n",
              "\n",
              "    .dataframe tbody tr th {\n",
              "        vertical-align: top;\n",
              "    }\n",
              "\n",
              "    .dataframe thead th {\n",
              "        text-align: right;\n",
              "    }\n",
              "</style>\n",
              "<table border=\"1\" class=\"dataframe\">\n",
              "  <thead>\n",
              "    <tr style=\"text-align: right;\">\n",
              "      <th></th>\n",
              "      <th>wea</th>\n",
              "      <th>temp</th>\n",
              "      <th>hum</th>\n",
              "      <th>arrCar</th>\n",
              "      <th>timeSlot</th>\n",
              "      <th>acciArea</th>\n",
              "      <th>drvCond</th>\n",
              "      <th>innCond</th>\n",
              "      <th>carSpd</th>\n",
              "      <th>steeAng</th>\n",
              "      <th>acciPos</th>\n",
              "    </tr>\n",
              "  </thead>\n",
              "  <tbody>\n",
              "    <tr>\n",
              "      <th>0</th>\n",
              "      <td>0</td>\n",
              "      <td>1</td>\n",
              "      <td>1</td>\n",
              "      <td>1</td>\n",
              "      <td>1</td>\n",
              "      <td>2</td>\n",
              "      <td>1</td>\n",
              "      <td>2</td>\n",
              "      <td>2</td>\n",
              "      <td>1</td>\n",
              "      <td>2</td>\n",
              "    </tr>\n",
              "    <tr>\n",
              "      <th>1</th>\n",
              "      <td>1</td>\n",
              "      <td>0</td>\n",
              "      <td>0</td>\n",
              "      <td>0</td>\n",
              "      <td>0</td>\n",
              "      <td>0</td>\n",
              "      <td>2</td>\n",
              "      <td>0</td>\n",
              "      <td>0</td>\n",
              "      <td>0</td>\n",
              "      <td>0</td>\n",
              "    </tr>\n",
              "    <tr>\n",
              "      <th>2</th>\n",
              "      <td>1</td>\n",
              "      <td>0</td>\n",
              "      <td>0</td>\n",
              "      <td>1</td>\n",
              "      <td>0</td>\n",
              "      <td>1</td>\n",
              "      <td>2</td>\n",
              "      <td>0</td>\n",
              "      <td>1</td>\n",
              "      <td>1</td>\n",
              "      <td>0</td>\n",
              "    </tr>\n",
              "    <tr>\n",
              "      <th>3</th>\n",
              "      <td>0</td>\n",
              "      <td>0</td>\n",
              "      <td>0</td>\n",
              "      <td>0</td>\n",
              "      <td>0</td>\n",
              "      <td>1</td>\n",
              "      <td>2</td>\n",
              "      <td>1</td>\n",
              "      <td>1</td>\n",
              "      <td>0</td>\n",
              "      <td>0</td>\n",
              "    </tr>\n",
              "    <tr>\n",
              "      <th>4</th>\n",
              "      <td>0</td>\n",
              "      <td>0</td>\n",
              "      <td>0</td>\n",
              "      <td>0</td>\n",
              "      <td>0</td>\n",
              "      <td>0</td>\n",
              "      <td>2</td>\n",
              "      <td>2</td>\n",
              "      <td>2</td>\n",
              "      <td>0</td>\n",
              "      <td>0</td>\n",
              "    </tr>\n",
              "    <tr>\n",
              "      <th>...</th>\n",
              "      <td>...</td>\n",
              "      <td>...</td>\n",
              "      <td>...</td>\n",
              "      <td>...</td>\n",
              "      <td>...</td>\n",
              "      <td>...</td>\n",
              "      <td>...</td>\n",
              "      <td>...</td>\n",
              "      <td>...</td>\n",
              "      <td>...</td>\n",
              "      <td>...</td>\n",
              "    </tr>\n",
              "    <tr>\n",
              "      <th>199995</th>\n",
              "      <td>2</td>\n",
              "      <td>0</td>\n",
              "      <td>0</td>\n",
              "      <td>1</td>\n",
              "      <td>1</td>\n",
              "      <td>2</td>\n",
              "      <td>1</td>\n",
              "      <td>1</td>\n",
              "      <td>0</td>\n",
              "      <td>0</td>\n",
              "      <td>1</td>\n",
              "    </tr>\n",
              "    <tr>\n",
              "      <th>199996</th>\n",
              "      <td>0</td>\n",
              "      <td>1</td>\n",
              "      <td>1</td>\n",
              "      <td>1</td>\n",
              "      <td>0</td>\n",
              "      <td>1</td>\n",
              "      <td>0</td>\n",
              "      <td>0</td>\n",
              "      <td>2</td>\n",
              "      <td>1</td>\n",
              "      <td>0</td>\n",
              "    </tr>\n",
              "    <tr>\n",
              "      <th>199997</th>\n",
              "      <td>1</td>\n",
              "      <td>0</td>\n",
              "      <td>2</td>\n",
              "      <td>0</td>\n",
              "      <td>1</td>\n",
              "      <td>2</td>\n",
              "      <td>2</td>\n",
              "      <td>1</td>\n",
              "      <td>2</td>\n",
              "      <td>0</td>\n",
              "      <td>2</td>\n",
              "    </tr>\n",
              "    <tr>\n",
              "      <th>199998</th>\n",
              "      <td>0</td>\n",
              "      <td>1</td>\n",
              "      <td>0</td>\n",
              "      <td>2</td>\n",
              "      <td>1</td>\n",
              "      <td>2</td>\n",
              "      <td>0</td>\n",
              "      <td>0</td>\n",
              "      <td>0</td>\n",
              "      <td>0</td>\n",
              "      <td>0</td>\n",
              "    </tr>\n",
              "    <tr>\n",
              "      <th>199999</th>\n",
              "      <td>1</td>\n",
              "      <td>0</td>\n",
              "      <td>0</td>\n",
              "      <td>1</td>\n",
              "      <td>1</td>\n",
              "      <td>1</td>\n",
              "      <td>2</td>\n",
              "      <td>2</td>\n",
              "      <td>0</td>\n",
              "      <td>0</td>\n",
              "      <td>1</td>\n",
              "    </tr>\n",
              "  </tbody>\n",
              "</table>\n",
              "<p>200000 rows × 11 columns</p>\n",
              "</div>"
            ],
            "text/plain": [
              "        wea  temp  hum  arrCar  ...  innCond  carSpd  steeAng  acciPos\n",
              "0         0     1    1       1  ...        2       2        1        2\n",
              "1         1     0    0       0  ...        0       0        0        0\n",
              "2         1     0    0       1  ...        0       1        1        0\n",
              "3         0     0    0       0  ...        1       1        0        0\n",
              "4         0     0    0       0  ...        2       2        0        0\n",
              "...     ...   ...  ...     ...  ...      ...     ...      ...      ...\n",
              "199995    2     0    0       1  ...        1       0        0        1\n",
              "199996    0     1    1       1  ...        0       2        1        0\n",
              "199997    1     0    2       0  ...        1       2        0        2\n",
              "199998    0     1    0       2  ...        0       0        0        0\n",
              "199999    1     0    0       1  ...        2       0        0        1\n",
              "\n",
              "[200000 rows x 11 columns]"
            ]
          },
          "metadata": {
            "tags": []
          },
          "execution_count": 23
        }
      ]
    },
    {
      "cell_type": "code",
      "metadata": {
        "id": "t60lnxfisTEB",
        "colab_type": "code",
        "colab": {}
      },
      "source": [
        "#데이터 전처리\n",
        "X = df.iloc[:, :-1].values\n",
        "Y = df.iloc[:, -1].values\n",
        "\n",
        "X_train, X_test, Y_train, Y_test = train_test_split(X, Y, test_size=0.2, random_state=1)\n",
        "\n",
        "Y_train = to_categorical(Y_train)\n",
        "Y_test = to_categorical(Y_test)\n",
        "\n",
        "sc = StandardScaler()\n",
        "X_train = sc.fit_transform(X_train)\n",
        "X_test = sc.fit_transform(X_test)"
      ],
      "execution_count": 24,
      "outputs": []
    },
    {
      "cell_type": "code",
      "metadata": {
        "id": "NO5dtOQJl9-b",
        "colab_type": "code",
        "colab": {
          "base_uri": "https://localhost:8080/",
          "height": 341
        },
        "outputId": "c56864f0-51e6-4302-fa6c-8e1ef6d45932"
      },
      "source": [
        "#DNN 모델 구성 및 요약 정보 출력\n",
        "model = Sequential ([\n",
        "    Dense(10, input_dim=10, activation='relu'),\n",
        "    Dense(20, activation='relu'),\n",
        "    Dropout(0.25),\n",
        "    Dense(10, activation='relu'),\n",
        "    Dense(3, activation='softmax')\n",
        "])\n",
        "model.compile(optimizer='adam',\n",
        "              loss='categorical_crossentropy',\n",
        "              metrics=['acc'])\n",
        "\n",
        "model.summary()"
      ],
      "execution_count": 29,
      "outputs": [
        {
          "output_type": "stream",
          "text": [
            "Model: \"sequential_5\"\n",
            "_________________________________________________________________\n",
            "Layer (type)                 Output Shape              Param #   \n",
            "=================================================================\n",
            "dense_20 (Dense)             (None, 10)                110       \n",
            "_________________________________________________________________\n",
            "dense_21 (Dense)             (None, 20)                220       \n",
            "_________________________________________________________________\n",
            "dropout_5 (Dropout)          (None, 20)                0         \n",
            "_________________________________________________________________\n",
            "dense_22 (Dense)             (None, 10)                210       \n",
            "_________________________________________________________________\n",
            "dense_23 (Dense)             (None, 3)                 33        \n",
            "=================================================================\n",
            "Total params: 573\n",
            "Trainable params: 573\n",
            "Non-trainable params: 0\n",
            "_________________________________________________________________\n"
          ],
          "name": "stdout"
        }
      ]
    },
    {
      "cell_type": "code",
      "metadata": {
        "id": "NjqLmmWKor7z",
        "colab_type": "code",
        "colab": {
          "base_uri": "https://localhost:8080/",
          "height": 1000
        },
        "outputId": "a66f692f-ef6d-42fa-a8a0-c75b88368837"
      },
      "source": [
        "#DNN 모델 학습\n",
        "hist = model.fit(X_train,\n",
        "                 Y_train,\n",
        "                 batch_size=2000,\n",
        "                 epochs=50,\n",
        "                 validation_data=(X_test, Y_test))"
      ],
      "execution_count": 30,
      "outputs": [
        {
          "output_type": "stream",
          "text": [
            "Epoch 1/50\n",
            "80/80 [==============================] - 0s 5ms/step - loss: 0.9225 - acc: 0.6042 - val_loss: 0.7444 - val_acc: 0.6909\n",
            "Epoch 2/50\n",
            "80/80 [==============================] - 0s 4ms/step - loss: 0.6144 - acc: 0.7483 - val_loss: 0.4286 - val_acc: 0.8306\n",
            "Epoch 3/50\n",
            "80/80 [==============================] - 0s 4ms/step - loss: 0.3497 - acc: 0.8616 - val_loss: 0.2029 - val_acc: 0.9369\n",
            "Epoch 4/50\n",
            "80/80 [==============================] - 0s 4ms/step - loss: 0.1994 - acc: 0.9303 - val_loss: 0.1272 - val_acc: 0.9628\n",
            "Epoch 5/50\n",
            "80/80 [==============================] - 0s 4ms/step - loss: 0.1424 - acc: 0.9527 - val_loss: 0.0962 - val_acc: 0.9744\n",
            "Epoch 6/50\n",
            "80/80 [==============================] - 0s 4ms/step - loss: 0.1127 - acc: 0.9647 - val_loss: 0.0768 - val_acc: 0.9820\n",
            "Epoch 7/50\n",
            "80/80 [==============================] - 0s 4ms/step - loss: 0.0934 - acc: 0.9724 - val_loss: 0.0621 - val_acc: 0.9852\n",
            "Epoch 8/50\n",
            "80/80 [==============================] - 0s 4ms/step - loss: 0.0787 - acc: 0.9772 - val_loss: 0.0518 - val_acc: 0.9877\n",
            "Epoch 9/50\n",
            "80/80 [==============================] - 0s 4ms/step - loss: 0.0677 - acc: 0.9807 - val_loss: 0.0450 - val_acc: 0.9893\n",
            "Epoch 10/50\n",
            "80/80 [==============================] - 0s 4ms/step - loss: 0.0600 - acc: 0.9831 - val_loss: 0.0398 - val_acc: 0.9895\n",
            "Epoch 11/50\n",
            "80/80 [==============================] - 0s 4ms/step - loss: 0.0538 - acc: 0.9845 - val_loss: 0.0362 - val_acc: 0.9900\n",
            "Epoch 12/50\n",
            "80/80 [==============================] - 0s 4ms/step - loss: 0.0491 - acc: 0.9857 - val_loss: 0.0330 - val_acc: 0.9903\n",
            "Epoch 13/50\n",
            "80/80 [==============================] - 0s 4ms/step - loss: 0.0451 - acc: 0.9866 - val_loss: 0.0300 - val_acc: 0.9910\n",
            "Epoch 14/50\n",
            "80/80 [==============================] - 0s 4ms/step - loss: 0.0402 - acc: 0.9882 - val_loss: 0.0262 - val_acc: 0.9924\n",
            "Epoch 15/50\n",
            "80/80 [==============================] - 0s 4ms/step - loss: 0.0358 - acc: 0.9894 - val_loss: 0.0224 - val_acc: 0.9935\n",
            "Epoch 16/50\n",
            "80/80 [==============================] - 0s 4ms/step - loss: 0.0308 - acc: 0.9915 - val_loss: 0.0188 - val_acc: 0.9949\n",
            "Epoch 17/50\n",
            "80/80 [==============================] - 0s 4ms/step - loss: 0.0269 - acc: 0.9924 - val_loss: 0.0160 - val_acc: 0.9959\n",
            "Epoch 18/50\n",
            "80/80 [==============================] - 0s 4ms/step - loss: 0.0238 - acc: 0.9936 - val_loss: 0.0139 - val_acc: 0.9962\n",
            "Epoch 19/50\n",
            "80/80 [==============================] - 0s 4ms/step - loss: 0.0208 - acc: 0.9939 - val_loss: 0.0122 - val_acc: 0.9962\n",
            "Epoch 20/50\n",
            "80/80 [==============================] - 0s 4ms/step - loss: 0.0191 - acc: 0.9942 - val_loss: 0.0106 - val_acc: 0.9963\n",
            "Epoch 21/50\n",
            "80/80 [==============================] - 0s 4ms/step - loss: 0.0168 - acc: 0.9945 - val_loss: 0.0092 - val_acc: 0.9965\n",
            "Epoch 22/50\n",
            "80/80 [==============================] - 0s 4ms/step - loss: 0.0148 - acc: 0.9950 - val_loss: 0.0078 - val_acc: 0.9968\n",
            "Epoch 23/50\n",
            "80/80 [==============================] - 0s 4ms/step - loss: 0.0130 - acc: 0.9955 - val_loss: 0.0063 - val_acc: 0.9973\n",
            "Epoch 24/50\n",
            "80/80 [==============================] - 0s 4ms/step - loss: 0.0116 - acc: 0.9960 - val_loss: 0.0051 - val_acc: 0.9983\n",
            "Epoch 25/50\n",
            "80/80 [==============================] - 0s 4ms/step - loss: 0.0097 - acc: 0.9968 - val_loss: 0.0040 - val_acc: 0.9984\n",
            "Epoch 26/50\n",
            "80/80 [==============================] - 0s 4ms/step - loss: 0.0085 - acc: 0.9974 - val_loss: 0.0032 - val_acc: 0.9993\n",
            "Epoch 27/50\n",
            "80/80 [==============================] - 0s 4ms/step - loss: 0.0075 - acc: 0.9979 - val_loss: 0.0026 - val_acc: 0.9995\n",
            "Epoch 28/50\n",
            "80/80 [==============================] - 0s 4ms/step - loss: 0.0071 - acc: 0.9979 - val_loss: 0.0022 - val_acc: 0.9996\n",
            "Epoch 29/50\n",
            "80/80 [==============================] - 0s 4ms/step - loss: 0.0061 - acc: 0.9980 - val_loss: 0.0018 - val_acc: 0.9996\n",
            "Epoch 30/50\n",
            "80/80 [==============================] - 0s 4ms/step - loss: 0.0056 - acc: 0.9983 - val_loss: 0.0015 - val_acc: 0.9998\n",
            "Epoch 31/50\n",
            "80/80 [==============================] - 0s 4ms/step - loss: 0.0050 - acc: 0.9985 - val_loss: 0.0012 - val_acc: 0.9998\n",
            "Epoch 32/50\n",
            "80/80 [==============================] - 0s 4ms/step - loss: 0.0046 - acc: 0.9986 - val_loss: 9.3293e-04 - val_acc: 0.9999\n",
            "Epoch 33/50\n",
            "80/80 [==============================] - 0s 4ms/step - loss: 0.0041 - acc: 0.9989 - val_loss: 7.5078e-04 - val_acc: 0.9999\n",
            "Epoch 34/50\n",
            "80/80 [==============================] - 0s 4ms/step - loss: 0.0038 - acc: 0.9990 - val_loss: 6.2733e-04 - val_acc: 0.9999\n",
            "Epoch 35/50\n",
            "80/80 [==============================] - 0s 4ms/step - loss: 0.0036 - acc: 0.9991 - val_loss: 4.9849e-04 - val_acc: 0.9999\n",
            "Epoch 36/50\n",
            "80/80 [==============================] - 0s 4ms/step - loss: 0.0034 - acc: 0.9991 - val_loss: 4.3006e-04 - val_acc: 0.9999\n",
            "Epoch 37/50\n",
            "80/80 [==============================] - 0s 4ms/step - loss: 0.0028 - acc: 0.9993 - val_loss: 3.5674e-04 - val_acc: 0.9999\n",
            "Epoch 38/50\n",
            "80/80 [==============================] - 0s 4ms/step - loss: 0.0028 - acc: 0.9993 - val_loss: 2.9122e-04 - val_acc: 1.0000\n",
            "Epoch 39/50\n",
            "80/80 [==============================] - 0s 4ms/step - loss: 0.0027 - acc: 0.9992 - val_loss: 2.6105e-04 - val_acc: 0.9999\n",
            "Epoch 40/50\n",
            "80/80 [==============================] - 0s 4ms/step - loss: 0.0026 - acc: 0.9993 - val_loss: 2.2150e-04 - val_acc: 1.0000\n",
            "Epoch 41/50\n",
            "80/80 [==============================] - 0s 4ms/step - loss: 0.0025 - acc: 0.9993 - val_loss: 1.9189e-04 - val_acc: 1.0000\n",
            "Epoch 42/50\n",
            "80/80 [==============================] - 0s 4ms/step - loss: 0.0025 - acc: 0.9994 - val_loss: 1.7634e-04 - val_acc: 1.0000\n",
            "Epoch 43/50\n",
            "80/80 [==============================] - 0s 4ms/step - loss: 0.0023 - acc: 0.9993 - val_loss: 1.5011e-04 - val_acc: 1.0000\n",
            "Epoch 44/50\n",
            "80/80 [==============================] - 0s 4ms/step - loss: 0.0022 - acc: 0.9994 - val_loss: 1.3988e-04 - val_acc: 1.0000\n",
            "Epoch 45/50\n",
            "80/80 [==============================] - 0s 4ms/step - loss: 0.0019 - acc: 0.9995 - val_loss: 1.3249e-04 - val_acc: 1.0000\n",
            "Epoch 46/50\n",
            "80/80 [==============================] - 0s 4ms/step - loss: 0.0020 - acc: 0.9995 - val_loss: 1.0652e-04 - val_acc: 1.0000\n",
            "Epoch 47/50\n",
            "80/80 [==============================] - 0s 4ms/step - loss: 0.0022 - acc: 0.9993 - val_loss: 1.0056e-04 - val_acc: 1.0000\n",
            "Epoch 48/50\n",
            "80/80 [==============================] - 0s 4ms/step - loss: 0.0019 - acc: 0.9994 - val_loss: 8.8270e-05 - val_acc: 1.0000\n",
            "Epoch 49/50\n",
            "80/80 [==============================] - 0s 4ms/step - loss: 0.0017 - acc: 0.9996 - val_loss: 7.8786e-05 - val_acc: 1.0000\n",
            "Epoch 50/50\n",
            "80/80 [==============================] - 0s 4ms/step - loss: 0.0018 - acc: 0.9995 - val_loss: 8.1691e-05 - val_acc: 1.0000\n"
          ],
          "name": "stdout"
        }
      ]
    },
    {
      "cell_type": "code",
      "metadata": {
        "id": "sPTvUX2eo9H6",
        "colab_type": "code",
        "colab": {
          "base_uri": "https://localhost:8080/",
          "height": 53
        },
        "outputId": "47a741e3-1c24-4ca8-b452-193376f1cb47"
      },
      "source": [
        "#모델을 학습 결과\n",
        "score = model.evaluate(X_test, Y_test, verbose=0)\n",
        "print(model.metrics_names)\n",
        "print(score)"
      ],
      "execution_count": 31,
      "outputs": [
        {
          "output_type": "stream",
          "text": [
            "['loss', 'acc']\n",
            "[8.16907559055835e-05, 1.0]\n"
          ],
          "name": "stdout"
        }
      ]
    },
    {
      "cell_type": "code",
      "metadata": {
        "id": "oCP3gedXqGQw",
        "colab_type": "code",
        "colab": {
          "base_uri": "https://localhost:8080/",
          "height": 279
        },
        "outputId": "70e22523-1824-42ff-dc02-561c22176303"
      },
      "source": [
        "#DNN 모델의 학습 결과 시각화\n",
        "fig, loss_ax = plt.subplots()\n",
        "acc_ax = loss_ax.twinx()\n",
        "\n",
        "loss_ax.plot(hist.history['loss'], 'y', label='train loss')\n",
        "loss_ax.plot(hist.history['val_loss'], 'r', label='val_loss')\n",
        "acc_ax.plot(hist.history['acc'], 'b', label='train acc')\n",
        "acc_ax.plot(hist.history['val_acc'], 'g', label='val acc')\n",
        "\n",
        "loss_ax.set_xlabel('epoch')\n",
        "\n",
        "loss_ax.set_ylabel('loss')\n",
        "loss_ax.legend(loc='lower right')\n",
        "\n",
        "acc_ax.set_ylabel('accuracy')\n",
        "acc_ax.legend(loc='upper right')\n",
        "\n",
        "plt.show()"
      ],
      "execution_count": 32,
      "outputs": [
        {
          "output_type": "display_data",
          "data": {
            "image/png": "[encoded data removed]",
            "text/plain": [
              "<Figure size 432x288 with 2 Axes>"
            ]
          },
          "metadata": {
            "tags": [],
            "needs_background": "light"
          }
        }
      ]
    },
    {
      "cell_type": "code",
      "metadata": {
        "id": "6endZ6LCtQzY",
        "colab_type": "code",
        "colab": {}
      },
      "source": [
        ""
      ],
      "execution_count": null,
      "outputs": []
    }
  ]
}