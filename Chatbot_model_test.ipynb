{
  "nbformat": 4,
  "nbformat_minor": 0,
  "metadata": {
    "colab": {
      "name": "Chatbot_model_test.ipynb",
      "provenance": [],
      "collapsed_sections": [],
      "authorship_tag": "ABX9TyMxBTagsR2Mrchv2IPmLoy+",
      "include_colab_link": true
    },
    "kernelspec": {
      "name": "python3",
      "display_name": "Python 3"
    }
  },
  "cells": [
    {
      "cell_type": "markdown",
      "metadata": {
        "id": "view-in-github",
        "colab_type": "text"
      },
      "source": [
        "<a href=\"https://colab.research.google.com/github/jangbigom91/Bigdata/blob/master/Chatbot_model_test.ipynb\" target=\"_parent\"><img src=\"https://colab.research.google.com/assets/colab-badge.svg\" alt=\"Open In Colab\"/></a>"
      ]
    },
    {
      "cell_type": "code",
      "metadata": {
        "id": "bVQzaJwnm3RT",
        "colab_type": "code",
        "colab": {
          "base_uri": "https://localhost:8080/",
          "height": 125
        },
        "outputId": "0edfdd15-9360-4eda-8a82-b752b0132510"
      },
      "source": [
        "#구글 드라이브 연동\n",
        "from google.colab import drive\n",
        "drive.mount('/content/drive')"
      ],
      "execution_count": 1,
      "outputs": [
        {
          "output_type": "stream",
          "text": [
            "Go to this URL in a browser: https://accounts.google.com/o/oauth2/auth?client_id=947318989803-6bn6qk8qdgf4n4g3pfee6491hc0brc4i.apps.googleusercontent.com&redirect_uri=urn%3aietf%3awg%3aoauth%3a2.0%3aoob&scope=email%20https%3a%2f%2fwww.googleapis.com%2fauth%2fdocs.test%20https%3a%2f%2fwww.googleapis.com%2fauth%2fdrive%20https%3a%2f%2fwww.googleapis.com%2fauth%2fdrive.photos.readonly%20https%3a%2f%2fwww.googleapis.com%2fauth%2fpeopleapi.readonly&response_type=code\n",
            "\n",
            "Enter your authorization code:\n",
            "4/3wHrjGSJs4R52phZyJ3ZGYKfymillNJcoUXNQcKAQZk84vlcReObpwU\n",
            "Mounted at /content/drive\n"
          ],
          "name": "stdout"
        }
      ]
    },
    {
      "cell_type": "code",
      "metadata": {
        "id": "HPYo_9K8m9gd",
        "colab_type": "code",
        "colab": {}
      },
      "source": [
        "#필요 패키지 업로드\n",
        "import codecs\n",
        "import tensorflow as tf\n",
        "import keras\n",
        "import numpy as np\n",
        "import random, sys\n",
        "from keras.models import Sequential\n",
        "from keras.layers import Dense, Activation, Dropout\n",
        "from keras.layers import LSTM\n",
        "from keras.optimizers import RMSprop\n",
        "from keras.utils.data_utils import get_file\n",
        "from keras.models import load_model\n",
        "from bs4 import BeautifulSoup"
      ],
      "execution_count": 2,
      "outputs": []
    },
    {
      "cell_type": "code",
      "metadata": {
        "id": "2w7sv4UZnH_p",
        "colab_type": "code",
        "colab": {
          "base_uri": "https://localhost:8080/",
          "height": 34
        },
        "outputId": "6e01a71b-a343-4f8b-cdc5-5524ab48554d"
      },
      "source": [
        "# 모델 로드\n",
        "model = load_model('/content/drive/My Drive/Tensorflow_works/model/chatbot.model')\n",
        "model"
      ],
      "execution_count": 3,
      "outputs": [
        {
          "output_type": "execute_result",
          "data": {
            "text/plain": [
              "<tensorflow.python.keras.engine.sequential.Sequential at 0x7f3c3f3e1080>"
            ]
          },
          "metadata": {
            "tags": []
          },
          "execution_count": 3
        }
      ]
    },
    {
      "cell_type": "code",
      "metadata": {
        "id": "3v_ijdDpoOMZ",
        "colab_type": "code",
        "colab": {}
      },
      "source": [
        "# 파일 로드 함수정의\n",
        "def load_data(file):\n",
        "  result = []\n",
        "\n",
        "  with open(file, 'r', encoding='utf-8') as f:\n",
        "    lines = f.read().splitlines()\n",
        "\n",
        "    for line in lines:\n",
        "      data = line.split(',')\n",
        "      data = data[0] + ' ' + data[1]\n",
        "      result.append(data)\n",
        "\n",
        "  result = result[1:] # header정보 제외\n",
        "  return result\n",
        "\n",
        "# 데이터 로드\n",
        "chat_dataset = load_data('/content/drive/My Drive/Tensorflow_works/data/ChatbotData.csv')\n",
        "chat_text = ' '.join(chat_dataset)\n",
        "\n",
        "# 문자 벡터화\n",
        "chars = sorted(list(set(chat_text)))\n",
        "char_index = dict((c, i) for i, c in enumerate(chars)) # 문자 - index\n",
        "index_char = dict((i, c) for i, c in enumerate(chars)) # index - 문자\n",
        "\n",
        "# 텍스트를 maxlen개의 문자로 자르고 다음에 오는 문자 등록\n",
        "maxlen = 20\n",
        "step = 3\n",
        "sentences = []\n",
        "next_char = []\n",
        "\n",
        "for i in range(0, len(chat_text) - maxlen, step):\n",
        "  sentences.append(chat_text[i: i + maxlen])\n",
        "  next_char.append(chat_text[i + maxlen])\n",
        "\n",
        "\n",
        "#임의의 시작 텍스트 선택\n",
        "start_index = random.randint(0, len(chat_text) - maxlen - 1)"
      ],
      "execution_count": 4,
      "outputs": []
    },
    {
      "cell_type": "code",
      "metadata": {
        "id": "xePSIEi1oV35",
        "colab_type": "code",
        "colab": {}
      },
      "source": [
        "# 후보 단어를 추천\n",
        "def sample(pred, temperature=1.0):\n",
        "    pred = np.asarray(pred).astype('float64')\n",
        "    pred = np.log(pred) / temperature\n",
        "    exp_pred = np.exp(pred)\n",
        "\n",
        "    pred = exp_pred / np.sum(exp_pred)\n",
        "    probas = np.random.multinomial(1, pred, 1)\n",
        "\n",
        "    return np.argmax(probas)\n",
        "\n",
        "\n",
        "def make_reply(sentence):\n",
        "    generated = ''\n",
        "\n",
        "    for i in range(40):\n",
        "        x = np.zeros((1, maxlen, len(chars)))\n",
        "\n",
        "        for t, char in enumerate(sentence):\n",
        "            x[0, t, char_index[char]] = 1\n",
        "\n",
        "        # 다음에 올 문자 예측\n",
        "        pred = model.predict(x, verbose=0)[0]\n",
        "        next_index = sample(pred, 0.8)\n",
        "        next_char = index_char[next_index]\n",
        "\n",
        "        # 출력하기\n",
        "        generated += next_char\n",
        "        sentence = sentence[1:] + next_char\n",
        "\n",
        "    return generated"
      ],
      "execution_count": 5,
      "outputs": []
    },
    {
      "cell_type": "code",
      "metadata": {
        "id": "iiPf9toGoZ4B",
        "colab_type": "code",
        "colab": {
          "base_uri": "https://localhost:8080/",
          "height": 34
        },
        "outputId": "2156685c-d923-49c5-96de-452a9835afe4"
      },
      "source": [
        "make_reply('여행가고 싶네.')"
      ],
      "execution_count": 6,
      "outputs": [
        {
          "output_type": "execute_result",
          "data": {
            "application/vnd.google.colaboratory.intrinsic+json": {
              "type": "string"
            },
            "text/plain": [
              "'습가다에 서네네책 서는.  면했질얼  는.했셨질습인 다해 잘해네 약반 술'"
            ]
          },
          "metadata": {
            "tags": []
          },
          "execution_count": 6
        }
      ]
    },
    {
      "cell_type": "code",
      "metadata": {
        "id": "VhS3Lu_TodHZ",
        "colab_type": "code",
        "colab": {}
      },
      "source": [
        ""
      ],
      "execution_count": null,
      "outputs": []
    }
  ]
}