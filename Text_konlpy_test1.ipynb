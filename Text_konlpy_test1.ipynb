{
  "nbformat": 4,
  "nbformat_minor": 0,
  "metadata": {
    "colab": {
      "name": "Text_konlpy_test1.ipynb",
      "provenance": [],
      "collapsed_sections": [],
      "authorship_tag": "ABX9TyOzYVySgf6/Qnj18xci4m5b",
      "include_colab_link": true
    },
    "kernelspec": {
      "name": "python3",
      "display_name": "Python 3"
    },
    "accelerator": "GPU"
  },
  "cells": [
    {
      "cell_type": "markdown",
      "metadata": {
        "id": "view-in-github",
        "colab_type": "text"
      },
      "source": [
        "<a href=\"https://colab.research.google.com/github/jangbigom91/Bigdata/blob/master/Text_konlpy_test1.ipynb\" target=\"_parent\"><img src=\"https://colab.research.google.com/assets/colab-badge.svg\" alt=\"Open In Colab\"/></a>"
      ]
    },
    {
      "cell_type": "code",
      "metadata": {
        "id": "30M0ccX5KEeD",
        "colab_type": "code",
        "colab": {
          "base_uri": "https://localhost:8080/",
          "height": 323
        },
        "outputId": "ec52106a-3d85-4b65-fd3e-09840252fd0d"
      },
      "source": [
        "pip install konlpy"
      ],
      "execution_count": 9,
      "outputs": [
        {
          "output_type": "stream",
          "text": [
            "Requirement already satisfied: konlpy in /usr/local/lib/python3.6/dist-packages (0.5.2)\n",
            "Requirement already satisfied: JPype1>=0.7.0 in /usr/local/lib/python3.6/dist-packages (from konlpy) (1.0.2)\n",
            "Requirement already satisfied: colorama in /usr/local/lib/python3.6/dist-packages (from konlpy) (0.4.3)\n",
            "Requirement already satisfied: tweepy>=3.7.0 in /usr/local/lib/python3.6/dist-packages (from konlpy) (3.9.0)\n",
            "Requirement already satisfied: lxml>=4.1.0 in /usr/local/lib/python3.6/dist-packages (from konlpy) (4.2.6)\n",
            "Requirement already satisfied: numpy>=1.6 in /usr/local/lib/python3.6/dist-packages (from konlpy) (1.18.5)\n",
            "Requirement already satisfied: beautifulsoup4==4.6.0 in /usr/local/lib/python3.6/dist-packages (from konlpy) (4.6.0)\n",
            "Requirement already satisfied: typing-extensions; python_version < \"3.8\" in /usr/local/lib/python3.6/dist-packages (from JPype1>=0.7.0->konlpy) (3.7.4.3)\n",
            "Requirement already satisfied: requests-oauthlib>=0.7.0 in /usr/local/lib/python3.6/dist-packages (from tweepy>=3.7.0->konlpy) (1.3.0)\n",
            "Requirement already satisfied: requests[socks]>=2.11.1 in /usr/local/lib/python3.6/dist-packages (from tweepy>=3.7.0->konlpy) (2.23.0)\n",
            "Requirement already satisfied: six>=1.10.0 in /usr/local/lib/python3.6/dist-packages (from tweepy>=3.7.0->konlpy) (1.15.0)\n",
            "Requirement already satisfied: oauthlib>=3.0.0 in /usr/local/lib/python3.6/dist-packages (from requests-oauthlib>=0.7.0->tweepy>=3.7.0->konlpy) (3.1.0)\n",
            "Requirement already satisfied: urllib3!=1.25.0,!=1.25.1,<1.26,>=1.21.1 in /usr/local/lib/python3.6/dist-packages (from requests[socks]>=2.11.1->tweepy>=3.7.0->konlpy) (1.24.3)\n",
            "Requirement already satisfied: idna<3,>=2.5 in /usr/local/lib/python3.6/dist-packages (from requests[socks]>=2.11.1->tweepy>=3.7.0->konlpy) (2.10)\n",
            "Requirement already satisfied: chardet<4,>=3.0.2 in /usr/local/lib/python3.6/dist-packages (from requests[socks]>=2.11.1->tweepy>=3.7.0->konlpy) (3.0.4)\n",
            "Requirement already satisfied: certifi>=2017.4.17 in /usr/local/lib/python3.6/dist-packages (from requests[socks]>=2.11.1->tweepy>=3.7.0->konlpy) (2020.6.20)\n",
            "Requirement already satisfied: PySocks!=1.5.7,>=1.5.6; extra == \"socks\" in /usr/local/lib/python3.6/dist-packages (from requests[socks]>=2.11.1->tweepy>=3.7.0->konlpy) (1.7.1)\n"
          ],
          "name": "stdout"
        }
      ]
    },
    {
      "cell_type": "code",
      "metadata": {
        "id": "kdrRjNL2Jczl",
        "colab_type": "code",
        "colab": {}
      },
      "source": [
        "\"\"\"\n",
        "날짜 : 2020/09/08\n",
        "이름 : 최정한\n",
        "내용 : konlpy 패키지 형태소 분석 실습\n",
        "\"\"\"\n",
        "\n",
        "from konlpy.tag import Okt\n",
        "from konlpy.tag import Kkma\n"
      ],
      "execution_count": 10,
      "outputs": []
    },
    {
      "cell_type": "code",
      "metadata": {
        "id": "GjcwTYFmKct-",
        "colab_type": "code",
        "colab": {}
      },
      "source": [
        "# 한글 형태소 분석기 생성\n",
        "okt = Okt() # Twitter 분석기 Open Korean Text\n",
        "kkma = Kkma()\n"
      ],
      "execution_count": 11,
      "outputs": []
    },
    {
      "cell_type": "code",
      "metadata": {
        "id": "vbufMBHcLEDv",
        "colab_type": "code",
        "colab": {
          "base_uri": "https://localhost:8080/",
          "height": 53
        },
        "outputId": "ca7bd9a7-21a9-4d2a-d483-cd631707c43e"
      },
      "source": [
        "# 형태소 분석 실행\n",
        "oktResult = okt.pos('나는 보리밥을 먹었다.')\n",
        "print(oktResult)\n",
        "\n",
        "kkmaResult = kkma.pos('나는 보리밥을 먹었다.')\n",
        "print(kkmaResult)"
      ],
      "execution_count": 12,
      "outputs": [
        {
          "output_type": "stream",
          "text": [
            "[('나', 'Noun'), ('는', 'Josa'), ('보리밥', 'Noun'), ('을', 'Josa'), ('먹었다', 'Verb'), ('.', 'Punctuation')]\n",
            "[('나', 'NP'), ('는', 'JX'), ('보리밥', 'NNG'), ('을', 'JKO'), ('먹', 'VV'), ('었', 'EPT'), ('다', 'EFN'), ('.', 'SF')]\n"
          ],
          "name": "stdout"
        }
      ]
    },
    {
      "cell_type": "code",
      "metadata": {
        "id": "-7x5-IhjLW7P",
        "colab_type": "code",
        "colab": {
          "base_uri": "https://localhost:8080/",
          "height": 53
        },
        "outputId": "36e1fb49-b506-425e-b659-267bf61198ac"
      },
      "source": [
        "oktResult = okt.pos('나는 보리밥을 먹었다.')\n",
        "print(oktResult)\n",
        "\n",
        "kkmaResult = kkma.pos('나는 보리밥을 먹었다.')\n",
        "print(kkmaResult)\n"
      ],
      "execution_count": 14,
      "outputs": [
        {
          "output_type": "stream",
          "text": [
            "[('나', 'Noun'), ('는', 'Josa'), ('보리밥', 'Noun'), ('을', 'Josa'), ('먹었다', 'Verb'), ('.', 'Punctuation')]\n",
            "[('나', 'NP'), ('는', 'JX'), ('보리밥', 'NNG'), ('을', 'JKO'), ('먹', 'VV'), ('었', 'EPT'), ('다', 'EFN'), ('.', 'SF')]\n"
          ],
          "name": "stdout"
        }
      ]
    },
    {
      "cell_type": "code",
      "metadata": {
        "id": "2L1Dn8S0MgDu",
        "colab_type": "code",
        "colab": {
          "base_uri": "https://localhost:8080/",
          "height": 269
        },
        "outputId": "d0aa4cbc-80e5-4ee5-ac6d-868d587cca71"
      },
      "source": [
        "# 한글 형태소 분석\n",
        "result = okt.pos('흠...포스트보고 초딩영환줄....오버연기조차 가볍지 않구나 ㅋㅋ', norm=True, stem=True)\n",
        "result"
      ],
      "execution_count": 15,
      "outputs": [
        {
          "output_type": "execute_result",
          "data": {
            "text/plain": [
              "[('흠', 'Noun'),\n",
              " ('...', 'Punctuation'),\n",
              " ('포스트', 'Noun'),\n",
              " ('보고', 'Noun'),\n",
              " ('초딩', 'Noun'),\n",
              " ('영환', 'Noun'),\n",
              " ('줄', 'Noun'),\n",
              " ('....', 'Punctuation'),\n",
              " ('오버', 'Noun'),\n",
              " ('연기', 'Noun'),\n",
              " ('조차', 'Josa'),\n",
              " ('가볍다', 'Adjective'),\n",
              " ('않다', 'Verb'),\n",
              " ('ㅋㅋ', 'KoreanParticle')]"
            ]
          },
          "metadata": {
            "tags": []
          },
          "execution_count": 15
        }
      ]
    }
  ]
}