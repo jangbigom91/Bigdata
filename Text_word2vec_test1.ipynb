{
  "nbformat": 4,
  "nbformat_minor": 0,
  "metadata": {
    "colab": {
      "name": "Text_word2vec_test1.ipynb",
      "provenance": [],
      "collapsed_sections": [],
      "authorship_tag": "ABX9TyN6/+npinyGaOd0dPhrIwiq",
      "include_colab_link": true
    },
    "kernelspec": {
      "name": "python3",
      "display_name": "Python 3"
    }
  },
  "cells": [
    {
      "cell_type": "markdown",
      "metadata": {
        "id": "view-in-github",
        "colab_type": "text"
      },
      "source": [
        "<a href=\"https://colab.research.google.com/github/jangbigom91/Bigdata/blob/master/Text_word2vec_test1.ipynb\" target=\"_parent\"><img src=\"https://colab.research.google.com/assets/colab-badge.svg\" alt=\"Open In Colab\"/></a>"
      ]
    },
    {
      "cell_type": "code",
      "metadata": {
        "id": "FeTcKWEONSnu",
        "colab_type": "code",
        "colab": {
          "base_uri": "https://localhost:8080/",
          "height": 107
        },
        "outputId": "a4ca01f7-d14a-4d26-88b1-8cf8a5edcf10"
      },
      "source": [
        "import nltk\n",
        "from nltk.corpus import movie_reviews\n",
        "from gensim.models.word2vec import Word2Vec\n",
        "\n",
        "nltk.download('movie_reviews')\n",
        "nltk.download('punkt')"
      ],
      "execution_count": null,
      "outputs": [
        {
          "output_type": "stream",
          "text": [
            "[nltk_data] Downloading package movie_reviews to /root/nltk_data...\n",
            "[nltk_data]   Unzipping corpora/movie_reviews.zip.\n",
            "[nltk_data] Downloading package punkt to /root/nltk_data...\n",
            "[nltk_data]   Unzipping tokenizers/punkt.zip.\n"
          ],
          "name": "stdout"
        },
        {
          "output_type": "execute_result",
          "data": {
            "text/plain": [
              "True"
            ]
          },
          "metadata": {
            "tags": []
          },
          "execution_count": 3
        }
      ]
    },
    {
      "cell_type": "code",
      "metadata": {
        "id": "hegb7Te4NdUu",
        "colab_type": "code",
        "colab": {
          "base_uri": "https://localhost:8080/",
          "height": 35
        },
        "outputId": "43c9a41e-84f5-494c-8b0a-7932bc07a32f"
      },
      "source": [
        "sentences = [list(s) for s in movie_reviews.sents()]\n",
        "len(sentences)"
      ],
      "execution_count": null,
      "outputs": [
        {
          "output_type": "execute_result",
          "data": {
            "text/plain": [
              "71532"
            ]
          },
          "metadata": {
            "tags": []
          },
          "execution_count": 5
        }
      ]
    },
    {
      "cell_type": "code",
      "metadata": {
        "id": "cIHkxf37OJ9X",
        "colab_type": "code",
        "colab": {
          "base_uri": "https://localhost:8080/",
          "height": 35
        },
        "outputId": "c40891a1-9d64-4b45-bb60-71a66b03d76e"
      },
      "source": [
        "#word2vec 모델생성\n",
        "model = Word2Vec(sentences)\n",
        "model"
      ],
      "execution_count": null,
      "outputs": [
        {
          "output_type": "execute_result",
          "data": {
            "text/plain": [
              "<gensim.models.word2vec.Word2Vec at 0x7f3a2f6dd208>"
            ]
          },
          "metadata": {
            "tags": []
          },
          "execution_count": 6
        }
      ]
    },
    {
      "cell_type": "code",
      "metadata": {
        "id": "SJCO0PDOO3ve",
        "colab_type": "code",
        "colab": {
          "base_uri": "https://localhost:8080/",
          "height": 145
        },
        "outputId": "2e2e866d-90a9-4173-99da-d1b1339831e1"
      },
      "source": [
        "# 단어 연관성 확인\n",
        "v1 = model.wv.similarity('actor', 'actress')\n",
        "v2 = model.wv.similarity('he', 'she')\n",
        "v3 = model.wv.most_similar('father')\n",
        "v4 = model.wv.most_similar(positive=['woman', 'king'],\n",
        "                           negative=['man'])\n",
        "\n",
        "print('v1 :', v1)\n",
        "print('v2 :', v2)\n",
        "print('v3 :', v3)\n",
        "print('v4 :', v4)\n"
      ],
      "execution_count": null,
      "outputs": [
        {
          "output_type": "stream",
          "text": [
            "v1 : 0.86594003\n",
            "v2 : 0.86099285\n",
            "v3 : [('mother', 0.965640664100647), ('son', 0.9562642574310303), ('wife', 0.9475758075714111), ('husband', 0.9446412324905396), ('daughter', 0.9409945011138916), ('brother', 0.9408754706382751), ('sister', 0.9205951690673828), ('girlfriend', 0.9157519936561584), ('partner', 0.895565927028656), ('boyfriend', 0.8893529176712036)]\n",
            "v4 : [('queen', 0.8659964799880981), ('edward', 0.8557891845703125), ('captain', 0.8489428162574768), ('producer', 0.8386573195457458), ('ed', 0.8373503684997559), ('fellow', 0.8336181640625), ('former', 0.8265502452850342), ('bobby', 0.8247871994972229), ('williams', 0.8241459727287292), ('hall', 0.8234187364578247)]\n"
          ],
          "name": "stdout"
        },
        {
          "output_type": "stream",
          "text": [
            "/usr/local/lib/python3.6/dist-packages/gensim/matutils.py:737: FutureWarning: Conversion of the second argument of issubdtype from `int` to `np.signedinteger` is deprecated. In future, it will be treated as `np.int64 == np.dtype(int).type`.\n",
            "  if np.issubdtype(vec.dtype, np.int):\n"
          ],
          "name": "stderr"
        }
      ]
    },
    {
      "cell_type": "code",
      "metadata": {
        "id": "9acHGcvrPPTf",
        "colab_type": "code",
        "colab": {}
      },
      "source": [
        ""
      ],
      "execution_count": null,
      "outputs": []
    }
  ]
}