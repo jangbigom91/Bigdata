{
  "nbformat": 4,
  "nbformat_minor": 0,
  "metadata": {
    "colab": {
      "name": "tf04_xor_test.ipynb",
      "provenance": [],
      "authorship_tag": "ABX9TyNbARx4fMSavxN54zk7XNyb",
      "include_colab_link": true
    },
    "kernelspec": {
      "name": "python3",
      "display_name": "Python 3"
    }
  },
  "cells": [
    {
      "cell_type": "markdown",
      "metadata": {
        "id": "view-in-github",
        "colab_type": "text"
      },
      "source": [
        "<a href=\"https://colab.research.google.com/github/jangbigom91/Bigdata/blob/master/tf04_xor_test.ipynb\" target=\"_parent\"><img src=\"https://colab.research.google.com/assets/colab-badge.svg\" alt=\"Open In Colab\"/></a>"
      ]
    },
    {
      "cell_type": "code",
      "metadata": {
        "id": "CPonG2o-YfTM",
        "colab_type": "code",
        "colab": {}
      },
      "source": [
        "\"\"\"\n",
        "날짜 : 2020/08/18\n",
        "이름 : 최정한\n",
        "내용 : XOR 연산 실습하기\n",
        "\"\"\"\n",
        "\n",
        "import tensorflow as tf\n",
        "import numpy as np\n",
        "from tensorflow.keras.models import Sequential\n",
        "from tensorflow.keras.layers import Dense\n",
        "from tensorflow.keras.optimizers import Adam\n",
        "from tensorflow.keras.losses import mse"
      ],
      "execution_count": null,
      "outputs": []
    },
    {
      "cell_type": "code",
      "metadata": {
        "id": "TuE7-jp-Y1ax",
        "colab_type": "code",
        "colab": {}
      },
      "source": [
        "#데이터 준비\n",
        "data = np.array([[0, 0], [0, 1], [1, 0], [1, 1]])\n",
        "label = np.array([[0], [1], [1], [1]])"
      ],
      "execution_count": null,
      "outputs": []
    },
    {
      "cell_type": "code",
      "metadata": {
        "id": "TA0S6rsSY10g",
        "colab_type": "code",
        "colab": {}
      },
      "source": [
        "#모델 구성하기\n",
        "model = Sequential()\n",
        "model.add(Dense(units=100, input_shape=(2,), activation='sigmoid'))\n",
        "model.add(Dense(units=1, activation='sigmoid'))"
      ],
      "execution_count": null,
      "outputs": []
    },
    {
      "cell_type": "code",
      "metadata": {
        "id": "dqUGFNWaZePA",
        "colab_type": "code",
        "colab": {}
      },
      "source": [
        "#모델 설정\n",
        "model.compile(optimizer='Adam', loss=mse, metrics=['acc'])"
      ],
      "execution_count": null,
      "outputs": []
    },
    {
      "cell_type": "code",
      "metadata": {
        "id": "HnU-YrbnZ4XX",
        "colab_type": "code",
        "colab": {}
      },
      "source": [
        "#학습하기\n",
        "model.fit(data, label, epochs=1000)"
      ],
      "execution_count": null,
      "outputs": []
    },
    {
      "cell_type": "code",
      "metadata": {
        "id": "dSljQnuaaK8B",
        "colab_type": "code",
        "colab": {
          "base_uri": "https://localhost:8080/",
          "height": 89
        },
        "outputId": "125cc8b9-5b59-4bad-a948-2ce7fb8de12d"
      },
      "source": [
        "#검증하기\n",
        "result = model.predict(data)\n",
        "result"
      ],
      "execution_count": null,
      "outputs": [
        {
          "output_type": "execute_result",
          "data": {
            "text/plain": [
              "array([[0.11494064],\n",
              "       [0.9207605 ],\n",
              "       [0.9240227 ],\n",
              "       [0.9982524 ]], dtype=float32)"
            ]
          },
          "metadata": {
            "tags": []
          },
          "execution_count": 21
        }
      ]
    },
    {
      "cell_type": "code",
      "metadata": {
        "id": "l_ZwSzzMbc7Z",
        "colab_type": "code",
        "colab": {
          "base_uri": "https://localhost:8080/",
          "height": 53
        },
        "outputId": "895e63a4-04ef-48ca-c73b-ee0d1184bd59"
      },
      "source": [
        "result = model.evaluate(data, label)\n",
        "result"
      ],
      "execution_count": null,
      "outputs": [
        {
          "output_type": "stream",
          "text": [
            "1/1 [==============================] - 0s 2ms/step - loss: 0.0063 - acc: 1.0000\n"
          ],
          "name": "stdout"
        },
        {
          "output_type": "execute_result",
          "data": {
            "text/plain": [
              "[0.006316463928669691, 1.0]"
            ]
          },
          "metadata": {
            "tags": []
          },
          "execution_count": 22
        }
      ]
    }
  ]
}