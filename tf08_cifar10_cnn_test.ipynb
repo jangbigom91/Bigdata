{
  "nbformat": 4,
  "nbformat_minor": 0,
  "metadata": {
    "colab": {
      "name": "tf08_cifar10_cnn_test.ipynb",
      "provenance": [],
      "collapsed_sections": [],
      "authorship_tag": "ABX9TyN3j0sJT10sVpywYcVvbyYZ",
      "include_colab_link": true
    },
    "kernelspec": {
      "name": "python3",
      "display_name": "Python 3"
    },
    "accelerator": "GPU"
  },
  "cells": [
    {
      "cell_type": "markdown",
      "metadata": {
        "id": "view-in-github",
        "colab_type": "text"
      },
      "source": [
        "<a href=\"https://colab.research.google.com/github/jangbigom91/Bigdata/blob/master/tf08_cifar10_cnn_test.ipynb\" target=\"_parent\"><img src=\"https://colab.research.google.com/assets/colab-badge.svg\" alt=\"Open In Colab\"/></a>"
      ]
    },
    {
      "cell_type": "code",
      "metadata": {
        "id": "8BFzlFXudabo",
        "colab_type": "code",
        "colab": {}
      },
      "source": [
        "\"\"\"\n",
        "날짜 : 2020/08/19\n",
        "이름 : 최정한\n",
        "내용 : 딥러닝 cifar10 CNN 이미지 분류 실습하기\n",
        "\"\"\"\n",
        "\n",
        "import matplotlib.pyplot as plt\n",
        "import numpy as np\n",
        "from tensorflow.keras.datasets.cifar10 import load_data\n",
        "from tensorflow.keras.utils import to_categorical\n",
        "from tensorflow.keras.models import Sequential\n",
        "from tensorflow.keras.layers import Dense, Flatten, Conv2D, MaxPool2D, Dropout\n",
        "from sklearn.model_selection import train_test_split\n",
        "from PIL import Image #파이썬 이미지 처리 라이브러리"
      ],
      "execution_count": null,
      "outputs": []
    },
    {
      "cell_type": "code",
      "metadata": {
        "id": "I3AqUKALdk8a",
        "colab_type": "code",
        "colab": {
          "base_uri": "https://localhost:8080/",
          "height": 215
        },
        "outputId": "47d9338a-1c2f-49f1-ce01-bc5abdbea1e2"
      },
      "source": [
        "#학습데이터 로드\n",
        "(cifar_train_data, cifar_train_label), (cifar_test_data, cifar_test_label) = load_data()\n",
        "\n",
        "#데이터 형태 확인\n",
        "print(cifar_train_data.shape, cifar_train_label.shape)\n",
        "print(cifar_test_data.shape, cifar_test_label.shape)\n",
        "print(cifar_train_label)"
      ],
      "execution_count": null,
      "outputs": [
        {
          "output_type": "stream",
          "text": [
            "Downloading data from https://www.cs.toronto.edu/~kriz/cifar-10-python.tar.gz\n",
            "170500096/170498071 [==============================] - 6s 0us/step\n",
            "(50000, 32, 32, 3) (50000, 1)\n",
            "(10000, 32, 32, 3) (10000, 1)\n",
            "[[6]\n",
            " [9]\n",
            " [9]\n",
            " ...\n",
            " [9]\n",
            " [1]\n",
            " [1]]\n"
          ],
          "name": "stdout"
        }
      ]
    },
    {
      "cell_type": "code",
      "metadata": {
        "id": "tNBeuTbDdlBA",
        "colab_type": "code",
        "colab": {
          "base_uri": "https://localhost:8080/",
          "height": 53
        },
        "outputId": "0106be46-3f77-427e-f237-f4248f211cdc"
      },
      "source": [
        "#데이터셋 분할하기\n",
        "train_data, test_data, train_label, test_label = train_test_split(cifar_train_data, cifar_train_label)\n",
        "print('훈련 데이터 : ', train_data.shape)\n",
        "print('검증 데이터 : ', test_data.shape)"
      ],
      "execution_count": null,
      "outputs": [
        {
          "output_type": "stream",
          "text": [
            "훈련 데이터 :  (37500, 32, 32, 3)\n",
            "검증 데이터 :  (12500, 32, 32, 3)\n"
          ],
          "name": "stdout"
        }
      ]
    },
    {
      "cell_type": "code",
      "metadata": {
        "id": "yu9chAu-dlEV",
        "colab_type": "code",
        "colab": {}
      },
      "source": [
        "#모델학습을 위한 데이터 전처리(정규화)\n",
        "\n",
        "#방법1 : 픽셀데이터를 0 ~ 1 사이로 초기화 -> 정확도 낮음\n",
        "#train_data = train_data / 255\n",
        "#test_data = test_data / 255\n",
        "#mnist_test_data = mnist_test_data / 255\n",
        "\n",
        "#방법2 : 픽셀데이터를 평균과 표준편차를 이용한 정규화 -> 정확도 높음\n",
        "mean = np.mean(train_data, axis=(0, 1, 2))\n",
        "std = np.std(train_data, axis=(0, 1, 2))\n",
        "\n",
        "train_data = (train_data - mean) / std\n",
        "test_data = (test_data - mean) / std\n",
        "cifar_test_data = (cifar_test_data - mean) / std\n",
        "\n",
        "\n",
        "#각 데이터의 레이블을 범주형(One-hot encoding) 형태로 변환\n",
        "train_label = to_categorical(train_label)\n",
        "test_label = to_categorical(test_label)\n",
        "cifar_test_label = to_categorical(cifar_test_label)"
      ],
      "execution_count": null,
      "outputs": []
    },
    {
      "cell_type": "code",
      "metadata": {
        "id": "UxeIVtT0dlHX",
        "colab_type": "code",
        "colab": {
          "base_uri": "https://localhost:8080/",
          "height": 701
        },
        "outputId": "0051ef75-27f0-4146-d61b-05f6b5c5998d"
      },
      "source": [
        "#학습 모델 구성하기\n",
        "model = Sequential()\n",
        "\n",
        "#CNN층\n",
        "model.add(Conv2D(filters=32, kernel_size=3, padding='same', activation='relu', input_shape=(32, 32, 3)))\n",
        "model.add(Conv2D(filters=32, kernel_size=3, padding='same', activation='relu'))\n",
        "model.add(MaxPool2D(pool_size=(2, 2), strides=2, padding='same'))\n",
        "model.add(Dropout(0.2))\n",
        "\n",
        "model.add(Conv2D(filters=64, kernel_size=3, padding='same', activation='relu'))\n",
        "model.add(Conv2D(filters=64, kernel_size=3, padding='same', activation='relu'))\n",
        "model.add(MaxPool2D(pool_size=(2, 2), strides=2, padding='same'))\n",
        "model.add(Dropout(0.2))\n",
        "\n",
        "model.add(Conv2D(filters=128, kernel_size=3, padding='same', activation='relu'))\n",
        "model.add(Conv2D(filters=128, kernel_size=3, padding='same', activation='relu'))\n",
        "model.add(MaxPool2D(pool_size=(2, 2), strides=2, padding='same'))\n",
        "model.add(Dropout(0.2))\n",
        "\n",
        "#FCNN (Full Connection Neural Network, 완전 연결층)\n",
        "model.add(Flatten()) #입력층\n",
        "model.add(Dense(256, activation='relu'))  #은닉층\n",
        "model.add(Dense(10, activation='softmax')) #출력층\n",
        "\n",
        "#모델 요약 확인\n",
        "model.summary()"
      ],
      "execution_count": null,
      "outputs": [
        {
          "output_type": "stream",
          "text": [
            "Model: \"sequential_1\"\n",
            "_________________________________________________________________\n",
            "Layer (type)                 Output Shape              Param #   \n",
            "=================================================================\n",
            "conv2d_6 (Conv2D)            (None, 32, 32, 32)        896       \n",
            "_________________________________________________________________\n",
            "conv2d_7 (Conv2D)            (None, 32, 32, 32)        9248      \n",
            "_________________________________________________________________\n",
            "max_pooling2d_3 (MaxPooling2 (None, 16, 16, 32)        0         \n",
            "_________________________________________________________________\n",
            "dropout (Dropout)            (None, 16, 16, 32)        0         \n",
            "_________________________________________________________________\n",
            "conv2d_8 (Conv2D)            (None, 16, 16, 64)        18496     \n",
            "_________________________________________________________________\n",
            "conv2d_9 (Conv2D)            (None, 16, 16, 64)        36928     \n",
            "_________________________________________________________________\n",
            "max_pooling2d_4 (MaxPooling2 (None, 8, 8, 64)          0         \n",
            "_________________________________________________________________\n",
            "dropout_1 (Dropout)          (None, 8, 8, 64)          0         \n",
            "_________________________________________________________________\n",
            "conv2d_10 (Conv2D)           (None, 8, 8, 128)         73856     \n",
            "_________________________________________________________________\n",
            "conv2d_11 (Conv2D)           (None, 8, 8, 128)         147584    \n",
            "_________________________________________________________________\n",
            "max_pooling2d_5 (MaxPooling2 (None, 4, 4, 128)         0         \n",
            "_________________________________________________________________\n",
            "dropout_2 (Dropout)          (None, 4, 4, 128)         0         \n",
            "_________________________________________________________________\n",
            "flatten_1 (Flatten)          (None, 2048)              0         \n",
            "_________________________________________________________________\n",
            "dense_2 (Dense)              (None, 256)               524544    \n",
            "_________________________________________________________________\n",
            "dense_3 (Dense)              (None, 10)                2570      \n",
            "=================================================================\n",
            "Total params: 814,122\n",
            "Trainable params: 814,122\n",
            "Non-trainable params: 0\n",
            "_________________________________________________________________\n"
          ],
          "name": "stdout"
        }
      ]
    },
    {
      "cell_type": "code",
      "metadata": {
        "id": "x_x9x5xwdlKY",
        "colab_type": "code",
        "colab": {}
      },
      "source": [
        "#학습모델 선정하기\n",
        "model.compile(optimizer='adam',\n",
        "              loss='categorical_crossentropy',\n",
        "              metrics=['acc'])"
      ],
      "execution_count": null,
      "outputs": []
    },
    {
      "cell_type": "code",
      "metadata": {
        "id": "C7RdKm5LdlQY",
        "colab_type": "code",
        "colab": {
          "base_uri": "https://localhost:8080/",
          "height": 755
        },
        "outputId": "d014feaa-b17f-4fde-9bcd-54f6439bccd0"
      },
      "source": [
        "#학습하기\n",
        "model.fit(train_data,\n",
        "          train_label,\n",
        "          epochs=20,\n",
        "          batch_size=32,\n",
        "          validation_data=(test_data, test_label))"
      ],
      "execution_count": null,
      "outputs": [
        {
          "output_type": "stream",
          "text": [
            "Epoch 1/20\n",
            "1172/1172 [==============================] - 16s 14ms/step - loss: 1.5042 - acc: 0.4439 - val_loss: 1.2002 - val_acc: 0.5562\n",
            "Epoch 2/20\n",
            "1172/1172 [==============================] - 16s 13ms/step - loss: 1.0608 - acc: 0.6211 - val_loss: 0.9159 - val_acc: 0.6739\n",
            "Epoch 3/20\n",
            "1172/1172 [==============================] - 16s 14ms/step - loss: 0.8771 - acc: 0.6920 - val_loss: 0.8592 - val_acc: 0.7038\n",
            "Epoch 4/20\n",
            "1172/1172 [==============================] - 16s 13ms/step - loss: 0.7644 - acc: 0.7310 - val_loss: 0.8092 - val_acc: 0.7205\n",
            "Epoch 5/20\n",
            "1172/1172 [==============================] - 16s 14ms/step - loss: 0.6879 - acc: 0.7571 - val_loss: 0.7315 - val_acc: 0.7402\n",
            "Epoch 6/20\n",
            "1172/1172 [==============================] - 16s 14ms/step - loss: 0.6395 - acc: 0.7731 - val_loss: 0.6885 - val_acc: 0.7640\n",
            "Epoch 7/20\n",
            "1172/1172 [==============================] - 16s 14ms/step - loss: 0.5862 - acc: 0.7936 - val_loss: 0.7188 - val_acc: 0.7520\n",
            "Epoch 8/20\n",
            "1172/1172 [==============================] - 16s 14ms/step - loss: 0.5522 - acc: 0.8031 - val_loss: 0.6842 - val_acc: 0.7728\n",
            "Epoch 9/20\n",
            "1172/1172 [==============================] - 16s 14ms/step - loss: 0.5116 - acc: 0.8196 - val_loss: 0.6838 - val_acc: 0.7699\n",
            "Epoch 10/20\n",
            "1172/1172 [==============================] - 16s 14ms/step - loss: 0.4857 - acc: 0.8291 - val_loss: 0.6951 - val_acc: 0.7774\n",
            "Epoch 11/20\n",
            "1172/1172 [==============================] - 16s 14ms/step - loss: 0.4660 - acc: 0.8346 - val_loss: 0.6975 - val_acc: 0.7742\n",
            "Epoch 12/20\n",
            "1172/1172 [==============================] - 16s 14ms/step - loss: 0.4395 - acc: 0.8438 - val_loss: 0.7237 - val_acc: 0.7741\n",
            "Epoch 13/20\n",
            "1172/1172 [==============================] - 16s 14ms/step - loss: 0.4207 - acc: 0.8532 - val_loss: 0.7201 - val_acc: 0.7718\n",
            "Epoch 14/20\n",
            "1172/1172 [==============================] - 16s 14ms/step - loss: 0.4044 - acc: 0.8573 - val_loss: 0.7609 - val_acc: 0.7690\n",
            "Epoch 15/20\n",
            "1172/1172 [==============================] - 16s 14ms/step - loss: 0.3966 - acc: 0.8608 - val_loss: 0.7462 - val_acc: 0.7730\n",
            "Epoch 16/20\n",
            "1172/1172 [==============================] - 16s 14ms/step - loss: 0.3776 - acc: 0.8678 - val_loss: 0.8044 - val_acc: 0.7661\n",
            "Epoch 17/20\n",
            "1172/1172 [==============================] - 16s 14ms/step - loss: 0.3750 - acc: 0.8673 - val_loss: 0.7727 - val_acc: 0.7752\n",
            "Epoch 18/20\n",
            "1172/1172 [==============================] - 16s 14ms/step - loss: 0.3583 - acc: 0.8755 - val_loss: 0.8204 - val_acc: 0.7686\n",
            "Epoch 19/20\n",
            "1172/1172 [==============================] - 16s 14ms/step - loss: 0.3595 - acc: 0.8761 - val_loss: 0.7584 - val_acc: 0.7846\n",
            "Epoch 20/20\n",
            "1172/1172 [==============================] - 16s 14ms/step - loss: 0.3462 - acc: 0.8793 - val_loss: 0.8041 - val_acc: 0.7702\n"
          ],
          "name": "stdout"
        },
        {
          "output_type": "execute_result",
          "data": {
            "text/plain": [
              "<tensorflow.python.keras.callbacks.History at 0x7f0952fd8e80>"
            ]
          },
          "metadata": {
            "tags": []
          },
          "execution_count": 15
        }
      ]
    },
    {
      "cell_type": "code",
      "metadata": {
        "id": "P-dh5MFRdlTF",
        "colab_type": "code",
        "colab": {
          "base_uri": "https://localhost:8080/",
          "height": 53
        },
        "outputId": "7b6fee21-e806-4c78-f43b-f3e247fb68a6"
      },
      "source": [
        "#평가하기\n",
        "#학습할 때의 정확도와 평가할때 정확도가 차이나면 과적합을 의심\n",
        "model.evaluate(cifar_test_data, cifar_test_label)"
      ],
      "execution_count": null,
      "outputs": [
        {
          "output_type": "stream",
          "text": [
            "313/313 [==============================] - 2s 6ms/step - loss: 0.8128 - acc: 0.7692\n"
          ],
          "name": "stdout"
        },
        {
          "output_type": "execute_result",
          "data": {
            "text/plain": [
              "[0.8128304481506348, 0.7692000269889832]"
            ]
          },
          "metadata": {
            "tags": []
          },
          "execution_count": 16
        }
      ]
    },
    {
      "cell_type": "code",
      "metadata": {
        "id": "OzOido6idlV9",
        "colab_type": "code",
        "colab": {
          "base_uri": "https://localhost:8080/",
          "height": 35
        },
        "outputId": "d8b3653e-6e72-4796-c470-7bc40f1486df"
      },
      "source": [
        "#테스트하기\n",
        "result = model.predict(cifar_test_data)\n",
        "\n",
        "from sklearn.metrics import accuracy_score\n",
        "score = accuracy_score(result.round(), cifar_test_label)\n",
        "print('점수 : ', score)"
      ],
      "execution_count": null,
      "outputs": [
        {
          "output_type": "stream",
          "text": [
            "점수 :  0.7455\n"
          ],
          "name": "stdout"
        }
      ]
    }
  ]
}