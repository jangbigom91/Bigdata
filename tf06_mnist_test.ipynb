{
  "nbformat": 4,
  "nbformat_minor": 0,
  "metadata": {
    "colab": {
      "name": "tf06_mnist_test.ipynb",
      "provenance": [],
      "collapsed_sections": [],
      "authorship_tag": "ABX9TyOPIjmXCYhmw0buXOYVjJM9",
      "include_colab_link": true
    },
    "kernelspec": {
      "name": "python3",
      "display_name": "Python 3"
    }
  },
  "cells": [
    {
      "cell_type": "markdown",
      "metadata": {
        "id": "view-in-github",
        "colab_type": "text"
      },
      "source": [
        "<a href=\"https://colab.research.google.com/github/jangbigom91/Bigdata/blob/master/tf06_mnist_test.ipynb\" target=\"_parent\"><img src=\"https://colab.research.google.com/assets/colab-badge.svg\" alt=\"Open In Colab\"/></a>"
      ]
    },
    {
      "cell_type": "code",
      "metadata": {
        "id": "GFpkiuw3HNWd",
        "colab_type": "code",
        "colab": {}
      },
      "source": [
        "\"\"\"\n",
        "날짜 : 2020/08/19\n",
        "이름 : 최정한\n",
        "내용 : 딥러닝 mnist 이미지 분류 실습하기\n",
        "\"\"\"\n",
        "\n",
        "import matplotlib.pyplot as plt\n",
        "import numpy as np\n",
        "from tensorflow.keras.datasets.mnist import load_data\n",
        "from tensorflow.keras.utils import to_categorical\n",
        "from tensorflow.keras.models import Sequential\n",
        "from tensorflow.keras.layers import Dense, Flatten\n",
        "from sklearn.model_selection import train_test_split\n",
        "from PIL import Image #파이썬 이미지 처리 라이브러리"
      ],
      "execution_count": null,
      "outputs": []
    },
    {
      "cell_type": "code",
      "metadata": {
        "id": "Qcw4IIixIffg",
        "colab_type": "code",
        "colab": {
          "base_uri": "https://localhost:8080/",
          "height": 35
        },
        "outputId": "1fb59620-e186-4b33-a71b-17554fb96391"
      },
      "source": [
        "#구글드라이브 연동\n",
        "from google.colab import drive\n",
        "drive.mount('/content/drive')"
      ],
      "execution_count": null,
      "outputs": [
        {
          "output_type": "stream",
          "text": [
            "Drive already mounted at /content/drive; to attempt to forcibly remount, call drive.mount(\"/content/drive\", force_remount=True).\n"
          ],
          "name": "stdout"
        }
      ]
    },
    {
      "cell_type": "code",
      "metadata": {
        "id": "UgIzVAUhI8WG",
        "colab_type": "code",
        "colab": {
          "base_uri": "https://localhost:8080/",
          "height": 719
        },
        "outputId": "983567cb-e6b0-4e1f-8013-79eb80d78973"
      },
      "source": [
        "#구글드라이브 이미지 로드하기\n",
        "img1 = Image.open('/content/drive/My Drive/Tensorflow_works/data/mnist_img1.jpg')\n",
        "img2 = Image.open('/content/drive/My Drive/Tensorflow_works/data/mnist_img2.jpg')\n",
        "img3 = Image.open('/content/drive/My Drive/Tensorflow_works/data/mnist_img3.jpg')\n",
        "img4 = Image.open('/content/drive/My Drive/Tensorflow_works/data/mnist_img4.jpg')\n",
        "img5 = Image.open('/content/drive/My Drive/Tensorflow_works/data/mnist_img5.jpg')\n",
        "\n",
        "#이미지 파일의 픽셀값 추출\n",
        "img1_px = np.array(img1)\n",
        "img2_px = np.array(img2)\n",
        "img3_px = np.array(img3)\n",
        "img4_px = np.array(img4)\n",
        "img5_px = np.array(img5)\n",
        "\n",
        "img_arr = np.array([img1_px, img2_px, img3_px, img4_px, img5_px])\n",
        "img_arr = img_arr / 255.0\n",
        "img_arr"
      ],
      "execution_count": 67,
      "outputs": [
        {
          "output_type": "execute_result",
          "data": {
            "text/plain": [
              "array([[[0., 0., 0., ..., 0., 0., 0.],\n",
              "        [0., 0., 0., ..., 0., 0., 0.],\n",
              "        [0., 0., 0., ..., 0., 0., 0.],\n",
              "        ...,\n",
              "        [0., 0., 0., ..., 0., 0., 0.],\n",
              "        [0., 0., 0., ..., 0., 0., 0.],\n",
              "        [0., 0., 0., ..., 0., 0., 0.]],\n",
              "\n",
              "       [[0., 0., 0., ..., 0., 0., 0.],\n",
              "        [0., 0., 0., ..., 0., 0., 0.],\n",
              "        [0., 0., 0., ..., 0., 0., 0.],\n",
              "        ...,\n",
              "        [0., 0., 0., ..., 0., 0., 0.],\n",
              "        [0., 0., 0., ..., 0., 0., 0.],\n",
              "        [0., 0., 0., ..., 0., 0., 0.]],\n",
              "\n",
              "       [[0., 0., 0., ..., 0., 0., 0.],\n",
              "        [0., 0., 0., ..., 0., 0., 0.],\n",
              "        [0., 0., 0., ..., 0., 0., 0.],\n",
              "        ...,\n",
              "        [0., 0., 0., ..., 0., 0., 0.],\n",
              "        [0., 0., 0., ..., 0., 0., 0.],\n",
              "        [0., 0., 0., ..., 0., 0., 0.]],\n",
              "\n",
              "       [[0., 0., 0., ..., 0., 0., 0.],\n",
              "        [0., 0., 0., ..., 0., 0., 0.],\n",
              "        [0., 0., 0., ..., 0., 0., 0.],\n",
              "        ...,\n",
              "        [0., 0., 0., ..., 0., 0., 0.],\n",
              "        [0., 0., 0., ..., 0., 0., 0.],\n",
              "        [0., 0., 0., ..., 0., 0., 0.]],\n",
              "\n",
              "       [[0., 0., 0., ..., 0., 0., 0.],\n",
              "        [0., 0., 0., ..., 0., 0., 0.],\n",
              "        [0., 0., 0., ..., 0., 0., 0.],\n",
              "        ...,\n",
              "        [0., 0., 0., ..., 0., 0., 0.],\n",
              "        [0., 0., 0., ..., 0., 0., 0.],\n",
              "        [0., 0., 0., ..., 0., 0., 0.]]])"
            ]
          },
          "metadata": {
            "tags": []
          },
          "execution_count": 67
        }
      ]
    },
    {
      "cell_type": "code",
      "metadata": {
        "id": "tlX7JYudKE6f",
        "colab_type": "code",
        "colab": {
          "base_uri": "https://localhost:8080/",
          "height": 71
        },
        "outputId": "eeee4089-868c-4ddc-e9c5-5690918556ac"
      },
      "source": [
        "#학습데이터 로드\n",
        "(mnist_train_data, mnist_train_label), (mnist_test_data, mnist_test_label) = load_data()\n",
        "\n",
        "#데이터 형태 확인\n",
        "print(mnist_train_data.shape, mnist_train_label.shape)\n",
        "print(mnist_test_data.shape, mnist_test_label.shape)\n",
        "print(mnist_train_label)"
      ],
      "execution_count": 68,
      "outputs": [
        {
          "output_type": "stream",
          "text": [
            "(60000, 28, 28) (60000,)\n",
            "(10000, 28, 28) (10000,)\n",
            "[5 0 4 ... 5 6 8]\n"
          ],
          "name": "stdout"
        }
      ]
    },
    {
      "cell_type": "code",
      "metadata": {
        "id": "TwWa-U-CLGGm",
        "colab_type": "code",
        "colab": {
          "base_uri": "https://localhost:8080/",
          "height": 244
        },
        "outputId": "aee3f35b-fc68-4712-ad07-34fe62536822"
      },
      "source": [
        "#데이터 샘플 이미지 출력\n",
        "random_idx = np.random.randint(60000, size=5)\n",
        "print(random_idx)\n",
        "\n",
        "plt.figure(figsize=(5, 5))\n",
        "\n",
        "for i, idx in enumerate(random_idx):\n",
        "  plt.subplot(3, 3, i+1)\n",
        "  plt.xticks([])\n",
        "  plt.yticks([])\n",
        "  label = mnist_train_label[idx]\n",
        "  plt.imshow(mnist_train_data[idx, :])\n",
        "  plt.title('number is %d' % label)"
      ],
      "execution_count": 69,
      "outputs": [
        {
          "output_type": "stream",
          "text": [
            "[11659 19379 42023 17704 22769]\n"
          ],
          "name": "stdout"
        },
        {
          "output_type": "display_data",
          "data": {
            "image/png": "[encoded data removed]",
            "text/plain": [
              "<Figure size 360x360 with 5 Axes>"
            ]
          },
          "metadata": {
            "tags": []
          }
        }
      ]
    },
    {
      "cell_type": "code",
      "metadata": {
        "id": "N9on50GGNVpd",
        "colab_type": "code",
        "colab": {
          "base_uri": "https://localhost:8080/",
          "height": 53
        },
        "outputId": "0d9ce38a-a945-4ba3-bbbd-cb8007604fb7"
      },
      "source": [
        "#데이터셋 분할하기\n",
        "train_data, test_data, train_label, test_label = train_test_split(mnist_train_data, mnist_train_label)\n",
        "print('훈련 데이터 : ', train_data.shape)\n",
        "print('검증 데이터 : ', test_data.shape)"
      ],
      "execution_count": 70,
      "outputs": [
        {
          "output_type": "stream",
          "text": [
            "훈련 데이터 :  (45000, 28, 28)\n",
            "검증 데이터 :  (15000, 28, 28)\n"
          ],
          "name": "stdout"
        }
      ]
    },
    {
      "cell_type": "code",
      "metadata": {
        "id": "8Bla0uhBODJ0",
        "colab_type": "code",
        "colab": {}
      },
      "source": [
        "#모델학습을 위한 데이터 전처리(정규화)\n",
        "train_data = train_data / 255\n",
        "test_data = test_data / 255\n",
        "mnist_test_data = mnist_test_data / 255\n",
        "\n",
        "#각 데이터의 레이블을 범주형(One-hot encoding) 형태로 변환\n",
        "train_label = to_categorical(train_label)\n",
        "test_label = to_categorical(test_label)\n",
        "mnist_test_label = to_categorical(mnist_test_label)"
      ],
      "execution_count": 71,
      "outputs": []
    },
    {
      "cell_type": "code",
      "metadata": {
        "id": "i1HSbZLIPH7X",
        "colab_type": "code",
        "colab": {}
      },
      "source": [
        "#학습 모델 구성하기\n",
        "model = Sequential()\n",
        "model.add(Flatten(input_shape=(28, 28))) #입력층\n",
        "model.add(Dense(64, activation='relu'))  #은닉층\n",
        "model.add(Dense(32, activation='relu'))  #은닉층\n",
        "model.add(Dense(10, activation='softmax')) #출력층"
      ],
      "execution_count": 72,
      "outputs": []
    },
    {
      "cell_type": "code",
      "metadata": {
        "id": "7RLmdu3WQGkG",
        "colab_type": "code",
        "colab": {}
      },
      "source": [
        "#학습모델 선정하기\n",
        "model.compile(optimizer='adam',\n",
        "              loss='categorical_crossentropy',\n",
        "              metrics=['acc'])"
      ],
      "execution_count": 74,
      "outputs": []
    },
    {
      "cell_type": "code",
      "metadata": {
        "id": "kUJobQeMQYVu",
        "colab_type": "code",
        "colab": {
          "base_uri": "https://localhost:8080/",
          "height": 1000
        },
        "outputId": "23e3f391-8ce6-4bdc-f728-0c09e5ad2970"
      },
      "source": [
        "#학습하기\n",
        "model.fit(train_data,\n",
        "          train_label,\n",
        "          epochs=30,\n",
        "          batch_size=128,\n",
        "          validation_data=(test_data, test_label))\n"
      ],
      "execution_count": 75,
      "outputs": [
        {
          "output_type": "stream",
          "text": [
            "Epoch 1/30\n",
            "352/352 [==============================] - 1s 3ms/step - loss: 0.5016 - acc: 0.8540 - val_loss: 0.2567 - val_acc: 0.9249\n",
            "Epoch 2/30\n",
            "352/352 [==============================] - 1s 3ms/step - loss: 0.2079 - acc: 0.9399 - val_loss: 0.1858 - val_acc: 0.9466\n",
            "Epoch 3/30\n",
            "352/352 [==============================] - 1s 3ms/step - loss: 0.1506 - acc: 0.9558 - val_loss: 0.1528 - val_acc: 0.9568\n",
            "Epoch 4/30\n",
            "352/352 [==============================] - 1s 3ms/step - loss: 0.1219 - acc: 0.9640 - val_loss: 0.1404 - val_acc: 0.9590\n",
            "Epoch 5/30\n",
            "352/352 [==============================] - 1s 3ms/step - loss: 0.1019 - acc: 0.9703 - val_loss: 0.1249 - val_acc: 0.9642\n",
            "Epoch 6/30\n",
            "352/352 [==============================] - 1s 3ms/step - loss: 0.0867 - acc: 0.9742 - val_loss: 0.1157 - val_acc: 0.9659\n",
            "Epoch 7/30\n",
            "352/352 [==============================] - 1s 3ms/step - loss: 0.0745 - acc: 0.9776 - val_loss: 0.1158 - val_acc: 0.9672\n",
            "Epoch 8/30\n",
            "352/352 [==============================] - 1s 2ms/step - loss: 0.0655 - acc: 0.9806 - val_loss: 0.1176 - val_acc: 0.9661\n",
            "Epoch 9/30\n",
            "352/352 [==============================] - 1s 3ms/step - loss: 0.0587 - acc: 0.9818 - val_loss: 0.1082 - val_acc: 0.9685\n",
            "Epoch 10/30\n",
            "352/352 [==============================] - 1s 3ms/step - loss: 0.0505 - acc: 0.9850 - val_loss: 0.1071 - val_acc: 0.9705\n",
            "Epoch 11/30\n",
            "352/352 [==============================] - 1s 3ms/step - loss: 0.0439 - acc: 0.9870 - val_loss: 0.1098 - val_acc: 0.9701\n",
            "Epoch 12/30\n",
            "352/352 [==============================] - 1s 3ms/step - loss: 0.0391 - acc: 0.9878 - val_loss: 0.1075 - val_acc: 0.9706\n",
            "Epoch 13/30\n",
            "352/352 [==============================] - 1s 3ms/step - loss: 0.0346 - acc: 0.9895 - val_loss: 0.1152 - val_acc: 0.9695\n",
            "Epoch 14/30\n",
            "352/352 [==============================] - 1s 3ms/step - loss: 0.0298 - acc: 0.9906 - val_loss: 0.1109 - val_acc: 0.9709\n",
            "Epoch 15/30\n",
            "352/352 [==============================] - 1s 3ms/step - loss: 0.0279 - acc: 0.9917 - val_loss: 0.1116 - val_acc: 0.9706\n",
            "Epoch 16/30\n",
            "352/352 [==============================] - 1s 3ms/step - loss: 0.0233 - acc: 0.9930 - val_loss: 0.1128 - val_acc: 0.9699\n",
            "Epoch 17/30\n",
            "352/352 [==============================] - 1s 3ms/step - loss: 0.0208 - acc: 0.9941 - val_loss: 0.1166 - val_acc: 0.9711\n",
            "Epoch 18/30\n",
            "352/352 [==============================] - 1s 3ms/step - loss: 0.0188 - acc: 0.9944 - val_loss: 0.1159 - val_acc: 0.9720\n",
            "Epoch 19/30\n",
            "352/352 [==============================] - 1s 3ms/step - loss: 0.0160 - acc: 0.9955 - val_loss: 0.1189 - val_acc: 0.9713\n",
            "Epoch 20/30\n",
            "352/352 [==============================] - 1s 3ms/step - loss: 0.0141 - acc: 0.9960 - val_loss: 0.1253 - val_acc: 0.9711\n",
            "Epoch 21/30\n",
            "352/352 [==============================] - 1s 3ms/step - loss: 0.0142 - acc: 0.9959 - val_loss: 0.1270 - val_acc: 0.9707\n",
            "Epoch 22/30\n",
            "352/352 [==============================] - 1s 3ms/step - loss: 0.0136 - acc: 0.9961 - val_loss: 0.1245 - val_acc: 0.9723\n",
            "Epoch 23/30\n",
            "352/352 [==============================] - 1s 3ms/step - loss: 0.0096 - acc: 0.9977 - val_loss: 0.1256 - val_acc: 0.9732\n",
            "Epoch 24/30\n",
            "352/352 [==============================] - 1s 3ms/step - loss: 0.0089 - acc: 0.9977 - val_loss: 0.1389 - val_acc: 0.9709\n",
            "Epoch 25/30\n",
            "352/352 [==============================] - 1s 3ms/step - loss: 0.0097 - acc: 0.9975 - val_loss: 0.1333 - val_acc: 0.9725\n",
            "Epoch 26/30\n",
            "352/352 [==============================] - 1s 2ms/step - loss: 0.0073 - acc: 0.9983 - val_loss: 0.1347 - val_acc: 0.9723\n",
            "Epoch 27/30\n",
            "352/352 [==============================] - 1s 3ms/step - loss: 0.0078 - acc: 0.9978 - val_loss: 0.1570 - val_acc: 0.9692\n",
            "Epoch 28/30\n",
            "352/352 [==============================] - 1s 3ms/step - loss: 0.0092 - acc: 0.9977 - val_loss: 0.1513 - val_acc: 0.9705\n",
            "Epoch 29/30\n",
            "352/352 [==============================] - 1s 2ms/step - loss: 0.0113 - acc: 0.9963 - val_loss: 0.1539 - val_acc: 0.9702\n",
            "Epoch 30/30\n",
            "352/352 [==============================] - 1s 3ms/step - loss: 0.0057 - acc: 0.9987 - val_loss: 0.1458 - val_acc: 0.9729\n"
          ],
          "name": "stdout"
        },
        {
          "output_type": "execute_result",
          "data": {
            "text/plain": [
              "<tensorflow.python.keras.callbacks.History at 0x7f61daea96a0>"
            ]
          },
          "metadata": {
            "tags": []
          },
          "execution_count": 75
        }
      ]
    },
    {
      "cell_type": "code",
      "metadata": {
        "id": "jo59xD_HQ670",
        "colab_type": "code",
        "colab": {
          "base_uri": "https://localhost:8080/",
          "height": 53
        },
        "outputId": "52a86406-2439-40c5-dfec-c415a2a78430"
      },
      "source": [
        "#평가하기\n",
        "model.evaluate(mnist_test_data, mnist_test_label)"
      ],
      "execution_count": 76,
      "outputs": [
        {
          "output_type": "stream",
          "text": [
            "313/313 [==============================] - 0s 909us/step - loss: 0.1312 - acc: 0.9729\n"
          ],
          "name": "stdout"
        },
        {
          "output_type": "execute_result",
          "data": {
            "text/plain": [
              "[0.13115938007831573, 0.9728999733924866]"
            ]
          },
          "metadata": {
            "tags": []
          },
          "execution_count": 76
        }
      ]
    },
    {
      "cell_type": "code",
      "metadata": {
        "id": "UTR6I5AxRBIF",
        "colab_type": "code",
        "colab": {
          "base_uri": "https://localhost:8080/",
          "height": 143
        },
        "outputId": "217bddf8-fa73-4ffb-f392-ecfad7357d0c"
      },
      "source": [
        "#테스트하기\n",
        "result = model.predict(mnist_test_data)\n",
        "\n",
        "from sklearn.metrics import accuracy_score\n",
        "score = accuracy_score(result.round(), mnist_test_label)\n",
        "print('점수 : ', score)\n",
        "\n",
        "\n",
        "final_result = model.predict(img_arr)\n",
        "print('final_result')\n",
        "print(final_result.round())\n"
      ],
      "execution_count": 77,
      "outputs": [
        {
          "output_type": "stream",
          "text": [
            "점수 :  0.9726\n",
            "final_result\n",
            "[[0. 1. 0. 0. 0. 0. 0. 0. 0. 0.]\n",
            " [0. 0. 1. 0. 0. 0. 0. 0. 0. 0.]\n",
            " [0. 0. 0. 1. 0. 0. 0. 0. 0. 0.]\n",
            " [0. 0. 0. 0. 1. 0. 0. 0. 0. 0.]\n",
            " [0. 0. 0. 0. 0. 1. 0. 0. 0. 0.]]\n"
          ],
          "name": "stdout"
        }
      ]
    }
  ]
}